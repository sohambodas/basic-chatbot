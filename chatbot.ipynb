{
 "cells": [
  {
   "cell_type": "markdown",
   "metadata": {},
   "source": [
    "Different libraries such as os and pyttsx3 are imported:\n",
    "    os-- for using system related functions(eg. os.system())\n",
    "    pyttsx3-- python text to speech module, for speak function"
   ]
  },
  {
   "cell_type": "code",
   "execution_count": null,
   "metadata": {},
   "outputs": [],
   "source": [
    "import os\n",
    "import pyttsx3"
   ]
  },
  {
   "cell_type": "markdown",
   "metadata": {},
   "source": [
    "Now, we need to display the menu regarding the available programs.\n",
    "(these program's paths are availble in environmental variables)"
   ]
  },
  {
   "cell_type": "code",
   "execution_count": null,
   "metadata": {},
   "outputs": [],
   "source": [
    "#choices in the form of menu\n",
    "menu = ['notepad', 'chrome', 'wmplayer', 'paint']\n",
    "pyttsx3.speak(\"choose a program from the list below:\")\n",
    "for i in menu:\n",
    "    print(i)"
   ]
  },
  {
   "cell_type": "markdown",
   "metadata": {},
   "source": [
    "The list of synonyms of different programs are mentioned.\n",
    "This will make it easier to add new words in future."
   ]
  },
  {
   "cell_type": "code",
   "execution_count": null,
   "metadata": {},
   "outputs": [],
   "source": [
    "#keywords in the form of lists\n",
    "\n",
    "start = ['start','begin','launch', 'open', 'play', 'run']\n",
    "\n",
    "npad = ['notepad','note pad', 'text editor', 'texteditor','editor']\n",
    "\n",
    "chrome = ['browser','chrome','web browser','webbrowser','google','google chrome']\n",
    "\n",
    "paint = ['paint','ms paint', 'mspaint','scratch book','drawing']\n",
    "\n",
    "wmp = ['wmplayer','wmp', 'music player','musicplayer','music','media player','mesiaplayer']\n",
    "\n",
    "negative = ['not ', 'dont',\"don't\", 'no ']\n",
    "\n",
    "quit = ['end','stop','finish', 'quit', 'over']"
   ]
  },
  {
   "cell_type": "markdown",
   "metadata": {},
   "source": [
    "The following code will check different condition to know the users choice"
   ]
  },
  {
   "cell_type": "code",
   "execution_count": null,
   "metadata": {},
   "outputs": [],
   "source": [
    "while(True):\n",
    "    pyttsx3.speak(\"enter your request:\")\n",
    "    text = input(\"your request: \")\n",
    "    text = text.lower()\n",
    "    if any(word in text for word in quit) and not(any(word in text for word in negative)):\n",
    "        pyttsx3.speak(\"thank you for using our service!!\")\n",
    "        break;\n",
    "    elif any(word in text for word in start) and any(word in text for word in npad) and not(any(word in text for word in negative)):\n",
    "        print(\"Notepad is running...\")\n",
    "        pyttsx3.speak(\"Notepad is started...\")\n",
    "        os.system(\"notepad\")\n",
    "    elif any(word in text for word in start) and any(word in text for word in chrome) and not(any(word in text for word in negative)):\n",
    "        print(\"Chrome is running...\")\n",
    "        pyttsx3.speak(\"Chrome is started...\")\n",
    "        os.system(\"chrome\")\n",
    "    elif any(word in text for word in start) and any(word in text for word in paint) and not(any(word in text for word in negative)):\n",
    "        print(\"Paint is running...\")\n",
    "        pyttsx3.speak(\"Paint is started...\")\n",
    "        os.system(\"Paint\")\n",
    "    elif any(word in text for word in start) and any(word in text for word in wmp) and not(any(word in text for word in negative)):\n",
    "        print(\"Media Player is running...\")\n",
    "        pyttsx3.speak(\"Media Player is started...\")\n",
    "        os.system(\"wmplayer\")\n",
    "    elif any(word in text for word in negative):\n",
    "        pass\n",
    "    else:\n",
    "        pyttsx3.speak(\"Sorry!! i did not understand you, try again...\")"
   ]
  }
 ],
 "metadata": {
  "kernelspec": {
   "display_name": "Python 3",
   "language": "python",
   "name": "python3"
  },
  "language_info": {
   "codemirror_mode": {
    "name": "ipython",
    "version": 3
   },
   "file_extension": ".py",
   "mimetype": "text/x-python",
   "name": "python",
   "nbconvert_exporter": "python",
   "pygments_lexer": "ipython3",
   "version": "3.8.3"
  }
 },
 "nbformat": 4,
 "nbformat_minor": 4
}
